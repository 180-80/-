{
 "cells": [
  {
   "cell_type": "code",
   "execution_count": 26,
   "id": "fec2942f",
   "metadata": {},
   "outputs": [
    {
     "name": "stdout",
     "output_type": "stream",
     "text": [
      "Note: you may need to restart the kernel to use updated packages.\n"
     ]
    },
    {
     "name": "stderr",
     "output_type": "stream",
     "text": [
      "ERROR: Invalid requirement: '#': Expected package name at the start of dependency specifier\n",
      "    #\n",
      "    ^\n"
     ]
    }
   ],
   "source": [
    "pip install xlwings # 라이브러리 설치"
   ]
  },
  {
   "cell_type": "code",
   "execution_count": 27,
   "id": "864e1460",
   "metadata": {},
   "outputs": [
    {
     "data": {
      "text/plain": [
       "<App [excel] 34220>"
      ]
     },
     "execution_count": 27,
     "metadata": {},
     "output_type": "execute_result"
    }
   ],
   "source": [
    "import xlwings as xw\n",
    "\n",
    "# 엑셀 앱 만들기\n",
    "app = xw.App(add_book=False)\n",
    "\n",
    "# 빈 엑셀이 열림\n",
    "app"
   ]
  },
  {
   "cell_type": "code",
   "execution_count": 28,
   "id": "6c30f542",
   "metadata": {},
   "outputs": [
    {
     "data": {
      "text/plain": [
       "<Book [통합 문서1]>"
      ]
     },
     "execution_count": 28,
     "metadata": {},
     "output_type": "execute_result"
    }
   ],
   "source": [
    "# 엑셀 워크북 만들기\n",
    "wb = app.books.add()\n",
    "\n",
    "# 워크시트가 생성됨\n",
    "wb"
   ]
  },
  {
   "cell_type": "code",
   "execution_count": 29,
   "id": "f8288adc",
   "metadata": {},
   "outputs": [
    {
     "data": {
      "text/plain": [
       "<Sheet [통합 문서1]Sheet1>"
      ]
     },
     "execution_count": 29,
     "metadata": {},
     "output_type": "execute_result"
    }
   ],
   "source": [
    "# 워크시트 선택\n",
    "ws = wb.sheets['Sheet1']\n",
    "\n",
    "# Sheet1 이 선택됨\n",
    "ws"
   ]
  },
  {
   "cell_type": "code",
   "execution_count": 30,
   "id": "74888779",
   "metadata": {},
   "outputs": [],
   "source": [
    "# 시트 이름 변경됨\n",
    "ws.name = \"영업1팀\""
   ]
  },
  {
   "cell_type": "code",
   "execution_count": 31,
   "id": "51963138",
   "metadata": {},
   "outputs": [],
   "source": [
    "# 다른 이름으로 변경하여 엑셀 저장\n",
    "wb.save('교육이수현황.xlsx')"
   ]
  },
  {
   "cell_type": "code",
   "execution_count": 32,
   "id": "f054ad69",
   "metadata": {},
   "outputs": [],
   "source": [
    "# 워크북 닫기\n",
    "wb.close()"
   ]
  },
  {
   "cell_type": "code",
   "execution_count": 33,
   "id": "8fa3df2b",
   "metadata": {},
   "outputs": [],
   "source": [
    "# 엑셀앱 닫기\n",
    "app.quit()"
   ]
  },
  {
   "cell_type": "code",
   "execution_count": 34,
   "id": "5765f37d",
   "metadata": {},
   "outputs": [],
   "source": [
    "# 엑셀앱 다시 만들기\n",
    "app = xw.App(add_book=False)"
   ]
  },
  {
   "cell_type": "code",
   "execution_count": 35,
   "id": "2f985f1c",
   "metadata": {},
   "outputs": [],
   "source": [
    "# 엑셀 워크북 불러오기\n",
    "wb = app.books.open(\"교육이수현황.xlsx\")"
   ]
  },
  {
   "cell_type": "code",
   "execution_count": 36,
   "id": "e02c9072",
   "metadata": {},
   "outputs": [
    {
     "data": {
      "text/plain": [
       "<Sheet [교육이수현황.xlsx]마케팅팀>"
      ]
     },
     "execution_count": 36,
     "metadata": {},
     "output_type": "execute_result"
    }
   ],
   "source": [
    "# 새로운 시트 생성\n",
    "wb.sheets.add(\"영업2팀\")\n",
    "wb.sheets.add(\"마케팅팀\")"
   ]
  },
  {
   "cell_type": "code",
   "execution_count": 37,
   "id": "41baaca9",
   "metadata": {},
   "outputs": [
    {
     "data": {
      "text/plain": [
       "<Sheet [교육이수현황.xlsx]세무회계팀>"
      ]
     },
     "execution_count": 37,
     "metadata": {},
     "output_type": "execute_result"
    }
   ],
   "source": [
    "# 영업2팀 앞에 시트 생성\n",
    "wb.sheets.add(name=\"세무회계팀\",before=\"영업2팀\")"
   ]
  },
  {
   "cell_type": "code",
   "execution_count": 38,
   "id": "97eedf0d",
   "metadata": {},
   "outputs": [
    {
     "data": {
      "text/plain": [
       "<Sheet [교육이수현황.xlsx]영업3팀>"
      ]
     },
     "execution_count": 38,
     "metadata": {},
     "output_type": "execute_result"
    }
   ],
   "source": [
    "# 영업2팀 뒤에 시트 생성\n",
    "wb.sheets.add(name=\"영업3팀\",after=\"영업2팀\")"
   ]
  },
  {
   "cell_type": "code",
   "execution_count": 39,
   "id": "2f6cb921",
   "metadata": {},
   "outputs": [
    {
     "data": {
      "text/plain": [
       "<Sheet [교육이수현황.xlsx]영업2팀>"
      ]
     },
     "execution_count": 39,
     "metadata": {},
     "output_type": "execute_result"
    }
   ],
   "source": [
    "# 워크 시트 선택 (인덱스)\n",
    "wb.sheets[2]"
   ]
  },
  {
   "cell_type": "code",
   "execution_count": 40,
   "id": "d20eb756",
   "metadata": {},
   "outputs": [],
   "source": [
    "# 시트 삭제\n",
    "wb.sheets[\"영업3팀\"].delete()"
   ]
  },
  {
   "cell_type": "code",
   "execution_count": 41,
   "id": "5800f13f",
   "metadata": {},
   "outputs": [],
   "source": [
    "#시트 활성화\n",
    "#엑셀에서 해당 시트 선택됨\n",
    "wb.sheets[\"세무회계팀\"].activate()"
   ]
  },
  {
   "cell_type": "code",
   "execution_count": 42,
   "id": "e9fd4912",
   "metadata": {},
   "outputs": [],
   "source": [
    "# 엑셀 파일 저장\n",
    "wb.save()"
   ]
  },
  {
   "cell_type": "code",
   "execution_count": 43,
   "id": "14fb929e",
   "metadata": {},
   "outputs": [],
   "source": [
    "# 엑셀앱 닫기\n",
    "app.quit()"
   ]
  },
  {
   "cell_type": "code",
   "execution_count": null,
   "id": "14abbb78",
   "metadata": {},
   "outputs": [],
   "source": []
  }
 ],
 "metadata": {
  "kernelspec": {
   "display_name": "Python 3",
   "language": "python",
   "name": "python3"
  },
  "language_info": {
   "codemirror_mode": {
    "name": "ipython",
    "version": 3
   },
   "file_extension": ".py",
   "mimetype": "text/x-python",
   "name": "python",
   "nbconvert_exporter": "python",
   "pygments_lexer": "ipython3",
   "version": "3.13.7"
  }
 },
 "nbformat": 4,
 "nbformat_minor": 5
}
