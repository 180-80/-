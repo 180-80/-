{
 "cells": [
  {
   "cell_type": "code",
   "execution_count": null,
   "id": "cc63b55e",
   "metadata": {},
   "outputs": [],
   "source": [
    "# Q 교육이수현황.xlsx 파일을 열고 마케팅팀 시트선택\n",
    "# 시트가 선택만되고 엑셀에는 안보임\n",
    "import xlwings as xw\n",
    "app = xw.App(add_book=False)\n",
    "wb = app.books.open(\"교육이수현황.xlsx\")\n",
    "ws = wb.sheets[\"마케팅팀\"]"
   ]
  },
  {
   "cell_type": "code",
   "execution_count": 2,
   "id": "4b3c446c",
   "metadata": {},
   "outputs": [],
   "source": [
    "# 데이터 1개 입력\n",
    "ws.range(\"A1\").value=\"성명\""
   ]
  },
  {
   "cell_type": "code",
   "execution_count": 3,
   "id": "58cca79c",
   "metadata": {},
   "outputs": [],
   "source": [
    "# 데이터 1개 입력\n",
    "ws.range(\"B1\").value=\"1월\""
   ]
  },
  {
   "cell_type": "code",
   "execution_count": 4,
   "id": "6b160f94",
   "metadata": {},
   "outputs": [],
   "source": [
    "# 데이터 1개 입력\n",
    "ws.range(\"A2\").value=\"리신\"\n",
    "ws.range(\"B2\").value=12"
   ]
  },
  {
   "cell_type": "code",
   "execution_count": 8,
   "id": "6e5f8765",
   "metadata": {},
   "outputs": [],
   "source": [
    "# 데이터 여러개 입력\n",
    "ws.range(\"A3\").value=['이즈리얼',5]"
   ]
  },
  {
   "cell_type": "code",
   "execution_count": 7,
   "id": "1e3da866",
   "metadata": {},
   "outputs": [],
   "source": [
    "# 데이터 여러개 입력\n",
    "ws.range(\"A4\").value=[['야스오',0],['요네',0]]"
   ]
  },
  {
   "cell_type": "code",
   "execution_count": null,
   "id": "e282cb4a",
   "metadata": {},
   "outputs": [],
   "source": []
  }
 ],
 "metadata": {
  "kernelspec": {
   "display_name": "Python 3",
   "language": "python",
   "name": "python3"
  },
  "language_info": {
   "codemirror_mode": {
    "name": "ipython",
    "version": 3
   },
   "file_extension": ".py",
   "mimetype": "text/x-python",
   "name": "python",
   "nbconvert_exporter": "python",
   "pygments_lexer": "ipython3",
   "version": "3.13.7"
  }
 },
 "nbformat": 4,
 "nbformat_minor": 5
}
