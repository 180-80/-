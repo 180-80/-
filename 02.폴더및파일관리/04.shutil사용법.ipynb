{
 "cells": [
  {
   "cell_type": "code",
   "execution_count": 1,
   "id": "94a09e9d",
   "metadata": {},
   "outputs": [
    {
     "data": {
      "text/plain": [
       "'./카스'"
      ]
     },
     "execution_count": 1,
     "metadata": {},
     "output_type": "execute_result"
    }
   ],
   "source": [
    "# 셔틀사용법\n",
    "# 파일 이동 및 복사\n",
    "import shutil\n",
    "shutil.move('../카스','./')"
   ]
  },
  {
   "cell_type": "code",
   "execution_count": 3,
   "id": "b7a91c6a",
   "metadata": {},
   "outputs": [
    {
     "data": {
      "text/plain": [
       "'카스\\\\일기.txt'"
      ]
     },
     "execution_count": 3,
     "metadata": {},
     "output_type": "execute_result"
    }
   ],
   "source": [
    "shutil.move('일기.txt','카스')"
   ]
  },
  {
   "cell_type": "code",
   "execution_count": 4,
   "id": "57149f3c",
   "metadata": {},
   "outputs": [
    {
     "data": {
      "text/plain": [
       "'카스\\\\일기1.txt'"
      ]
     },
     "execution_count": 4,
     "metadata": {},
     "output_type": "execute_result"
    }
   ],
   "source": [
    "shutil.move('일기1.txt','카스')"
   ]
  },
  {
   "cell_type": "code",
   "execution_count": 5,
   "id": "8115fd36",
   "metadata": {},
   "outputs": [
    {
     "data": {
      "text/plain": [
       "'테라\\\\일기.txt'"
      ]
     },
     "execution_count": 5,
     "metadata": {},
     "output_type": "execute_result"
    }
   ],
   "source": [
    "shutil.copy('카스/일기.txt','테라')"
   ]
  }
 ],
 "metadata": {
  "kernelspec": {
   "display_name": "Python 3",
   "language": "python",
   "name": "python3"
  },
  "language_info": {
   "codemirror_mode": {
    "name": "ipython",
    "version": 3
   },
   "file_extension": ".py",
   "mimetype": "text/x-python",
   "name": "python",
   "nbconvert_exporter": "python",
   "pygments_lexer": "ipython3",
   "version": "3.13.7"
  }
 },
 "nbformat": 4,
 "nbformat_minor": 5
}
