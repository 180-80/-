{
 "cells": [
  {
   "cell_type": "code",
   "execution_count": 1,
   "id": "dd2d8264",
   "metadata": {},
   "outputs": [],
   "source": [
    "import xlwings as xw\n",
    "import glob"
   ]
  },
  {
   "cell_type": "code",
   "execution_count": null,
   "id": "abae6555",
   "metadata": {},
   "outputs": [],
   "source": [
    "# 파일 하나 바꿔보기\n",
    "app = xw.App(add_book=False)\n",
    "wb = app.books.open(r\"C:\\Users\\admin\\Documents\\공유폴더\\계산서파일\\세금계산서_놀부전자.xlsx\")\n",
    "ws = wb.sheets['자료입력페이지']\n",
    "ws.range('C14').value = \"2023-02-01\"\n",
    "wb.save()\n",
    "app.quit()"
   ]
  },
  {
   "cell_type": "code",
   "execution_count": null,
   "id": "0b36bab0",
   "metadata": {},
   "outputs": [],
   "source": [
    "file_list = glob.glob(r\"C:\\Users\\admin\\Documents\\공유폴더\\계산서파일\\*\")\n",
    "app = xw.App(add_book=False)\n",
    "for file in file_list:\n",
    "    wb = app.books.open(file)\n",
    "    ws = wb.sheets['자료입력페이지']\n",
    "    ws.range('C14').value = \"2023-02-01\"\n",
    "    wb.save()\n",
    "    wb.close()\n",
    "app.quit()"
   ]
  },
  {
   "cell_type": "code",
   "execution_count": null,
   "id": "2e3ef483",
   "metadata": {},
   "outputs": [],
   "source": []
  }
 ],
 "metadata": {
  "kernelspec": {
   "display_name": "Python 3",
   "language": "python",
   "name": "python3"
  },
  "language_info": {
   "codemirror_mode": {
    "name": "ipython",
    "version": 3
   },
   "file_extension": ".py",
   "mimetype": "text/x-python",
   "name": "python",
   "nbconvert_exporter": "python",
   "pygments_lexer": "ipython3",
   "version": "3.13.7"
  }
 },
 "nbformat": 4,
 "nbformat_minor": 5
}
