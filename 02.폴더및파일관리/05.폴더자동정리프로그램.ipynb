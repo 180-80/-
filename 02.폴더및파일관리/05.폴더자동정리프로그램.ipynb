{
 "cells": [
  {
   "cell_type": "code",
   "execution_count": 1,
   "id": "29584b87",
   "metadata": {},
   "outputs": [],
   "source": [
    "import os,glob,shutil"
   ]
  },
  {
   "cell_type": "code",
   "execution_count": 10,
   "id": "43f486fe",
   "metadata": {},
   "outputs": [
    {
     "data": {
      "text/plain": [
       "['C:\\\\Users\\\\admin\\\\Documents\\\\공유폴더\\\\GS칼텍스_20300203_보고서.docx',\n",
       " 'C:\\\\Users\\\\admin\\\\Documents\\\\공유폴더\\\\KT rolster_20300112_보고서.pptx',\n",
       " 'C:\\\\Users\\\\admin\\\\Documents\\\\공유폴더\\\\농심_20300112_보고서.pptx',\n",
       " 'C:\\\\Users\\\\admin\\\\Documents\\\\공유폴더\\\\보고서파일',\n",
       " 'C:\\\\Users\\\\admin\\\\Documents\\\\공유폴더\\\\신세계그룹_20300124_보고서.docx',\n",
       " 'C:\\\\Users\\\\admin\\\\Documents\\\\공유폴더\\\\아시아나_20300124_보고서.docx',\n",
       " 'C:\\\\Users\\\\admin\\\\Documents\\\\공유폴더\\\\포스코_20300120_보고서.docx',\n",
       " 'C:\\\\Users\\\\admin\\\\Documents\\\\공유폴더\\\\현대백화점_20300213_보고서.pptx']"
      ]
     },
     "execution_count": 10,
     "metadata": {},
     "output_type": "execute_result"
    }
   ],
   "source": [
    "#1. 내문서 공유폴더가 있을텐데, '보고서' 단어가 포함된 파일 추출해보기\n",
    "report_files = glob.glob(r\"C:\\Users\\admin\\Documents\\공유폴더\\*보고서*\")\n",
    "report_files\n"
   ]
  },
  {
   "cell_type": "code",
   "execution_count": 11,
   "id": "584bc453",
   "metadata": {},
   "outputs": [],
   "source": [
    "#2. 내문서/공유폴더/보고서파일 에 폴더가 업다면 만들기\n",
    "if not os.path.exists(r\"C:\\Users\\admin\\Documents\\공유폴더\\보고서파일\"):\n",
    "    os.mkdir(r\"C:\\Users\\admin\\Documents\\공유폴더\\보고서파일\")"
   ]
  },
  {
   "cell_type": "code",
   "execution_count": 12,
   "id": "470260dd",
   "metadata": {},
   "outputs": [],
   "source": [
    "#3. 파일 이동시키기\n",
    "#추출한 파일들을 '보고서파일' 폴더로 이동시키기\n",
    "for file in report_files:\n",
    "    shutil.move(file,r\"C:\\Users\\admin\\Documents\\공유폴더\\보고서파일\")"
   ]
  },
  {
   "cell_type": "code",
   "execution_count": 21,
   "id": "a1feff80",
   "metadata": {},
   "outputs": [],
   "source": [
    "# (심화) 폴더 자동 정리 프로그램 완성하기\n",
    "target_folder = r\"C:\\Users\\admin\\Documents\\공유폴더\"\n",
    "keyword_list = ['보고서','데이터','계산서']\n",
    "for keyword in keyword_list:\n",
    "    file_list = glob.glob(f\"{target_folder}/*{keyword}*\")\n",
    "    if not os.path.exists(f\"{target_folder}/{keyword}파일\"):\n",
    "        os.mkdir(f\"{target_folder}/{keyword}파일\")\n",
    "    for file in file_list:\n",
    "        shutil.move(file,f\"{target_folder}/{keyword}파일\")\n"
   ]
  },
  {
   "cell_type": "code",
   "execution_count": null,
   "id": "dbd1ce41",
   "metadata": {},
   "outputs": [],
   "source": []
  }
 ],
 "metadata": {
  "kernelspec": {
   "display_name": "Python 3",
   "language": "python",
   "name": "python3"
  },
  "language_info": {
   "codemirror_mode": {
    "name": "ipython",
    "version": 3
   },
   "file_extension": ".py",
   "mimetype": "text/x-python",
   "name": "python",
   "nbconvert_exporter": "python",
   "pygments_lexer": "ipython3",
   "version": "3.13.7"
  }
 },
 "nbformat": 4,
 "nbformat_minor": 5
}
