{
 "cells": [
  {
   "cell_type": "code",
   "execution_count": null,
   "id": "c38b8811",
   "metadata": {},
   "outputs": [],
   "source": [
    "import os\n",
    "\n",
    "# 상대경로 (현재경로에 생성됨)\n",
    "os.mkdir('참이슬')"
   ]
  },
  {
   "cell_type": "code",
   "execution_count": null,
   "id": "22e78353",
   "metadata": {},
   "outputs": [],
   "source": [
    "# 상대경로 (참이슬 아래 폴더 생성)\n",
    "os.mkdir('참이슬/후레시')"
   ]
  },
  {
   "cell_type": "code",
   "execution_count": 3,
   "id": "f7205dd3",
   "metadata": {},
   "outputs": [],
   "source": [
    "# 상대경로 (상위폴더)\n",
    "os.mkdir('../카스')"
   ]
  },
  {
   "cell_type": "code",
   "execution_count": null,
   "id": "6eac30fc",
   "metadata": {},
   "outputs": [],
   "source": [
    "# 절대경로 (\\0이 null로 인식되어 에러 발생, r 작성)\n",
    "os.mkdir(r\"C:\\coding\\startcoding\\python_basic\\-\\02.폴더및파일관리\\테라\")"
   ]
  },
  {
   "cell_type": "code",
   "execution_count": null,
   "id": "0569bbad",
   "metadata": {},
   "outputs": [
    {
     "data": {
      "text/plain": [
       "True"
      ]
     },
     "execution_count": 7,
     "metadata": {},
     "output_type": "execute_result"
    }
   ],
   "source": [
    "# 폴더 존재 여부 확인\n",
    "os.path.exists(r\"C:\\coding\\startcoding\\python_basic\\-\\02.폴더및파일관리\\테라\")"
   ]
  },
  {
   "cell_type": "code",
   "execution_count": 9,
   "id": "231fe0e1",
   "metadata": {},
   "outputs": [],
   "source": [
    "# 폴더 없을때만 만들기\n",
    "if not os.path.exists(r\"C:\\coding\\startcoding\\python_basic\\-\\02.폴더및파일관리\\테라\"):\n",
    "    os.mkrdir(r\"C:\\coding\\startcoding\\python_basic\\-\\02.폴더및파일관리\\테라\")"
   ]
  },
  {
   "cell_type": "code",
   "execution_count": null,
   "id": "fe493ac0",
   "metadata": {},
   "outputs": [],
   "source": []
  }
 ],
 "metadata": {
  "kernelspec": {
   "display_name": "Python 3",
   "language": "python",
   "name": "python3"
  },
  "language_info": {
   "codemirror_mode": {
    "name": "ipython",
    "version": 3
   },
   "file_extension": ".py",
   "mimetype": "text/x-python",
   "name": "python",
   "nbconvert_exporter": "python",
   "pygments_lexer": "ipython3",
   "version": "3.13.7"
  }
 },
 "nbformat": 4,
 "nbformat_minor": 5
}
